{
 "cells": [
  {
   "cell_type": "code",
   "execution_count": 66,
   "id": "53d10b3a-4bf6-487c-b434-85ac7195e16d",
   "metadata": {},
   "outputs": [],
   "source": [
    "import pandas as pd\n",
    "import numpy as np\n",
    "import tensorflow as tf"
   ]
  },
  {
   "cell_type": "code",
   "execution_count": 2,
   "id": "db586e7f-e36a-4236-ae9e-081f71a1fcf5",
   "metadata": {},
   "outputs": [],
   "source": [
    "data=pd.read_csv('/Users/nihaalnadaf/Downloads/chess/untitled folder/dta.csv')"
   ]
  },
  {
   "cell_type": "code",
   "execution_count": 3,
   "id": "eaa2dc97-e036-4a20-9ca1-cf67b67265f6",
   "metadata": {},
   "outputs": [
    {
     "data": {
      "text/html": [
       "<div>\n",
       "<style scoped>\n",
       "    .dataframe tbody tr th:only-of-type {\n",
       "        vertical-align: middle;\n",
       "    }\n",
       "\n",
       "    .dataframe tbody tr th {\n",
       "        vertical-align: top;\n",
       "    }\n",
       "\n",
       "    .dataframe thead th {\n",
       "        text-align: right;\n",
       "    }\n",
       "</style>\n",
       "<table border=\"1\" class=\"dataframe\">\n",
       "  <thead>\n",
       "    <tr style=\"text-align: right;\">\n",
       "      <th></th>\n",
       "      <th>Event</th>\n",
       "      <th>White</th>\n",
       "      <th>Black</th>\n",
       "      <th>Result</th>\n",
       "      <th>Moves</th>\n",
       "    </tr>\n",
       "  </thead>\n",
       "  <tbody>\n",
       "    <tr>\n",
       "      <th>0</th>\n",
       "      <td>Rated Blitz game</td>\n",
       "      <td>PRESA</td>\n",
       "      <td>Blitzstream-twitch</td>\n",
       "      <td>1-0</td>\n",
       "      <td>e4 e5 Nf3 Nc6 Bc4 Bc5 O-O d6 d3 Bg4 c3 Qf6 Be3...</td>\n",
       "    </tr>\n",
       "    <tr>\n",
       "      <th>1</th>\n",
       "      <td>Rated Blitz game</td>\n",
       "      <td>Blitzstream-twitch</td>\n",
       "      <td>PRESA</td>\n",
       "      <td>1-0</td>\n",
       "      <td>e4 d5 Nc3 dxe4 Nxe4 Qd5 Qf3 Nc6 c3 Bf5 Ng3 Qxf...</td>\n",
       "    </tr>\n",
       "    <tr>\n",
       "      <th>2</th>\n",
       "      <td>Rated Blitz game</td>\n",
       "      <td>PRESA</td>\n",
       "      <td>Matetricks</td>\n",
       "      <td>1/2-1/2</td>\n",
       "      <td>e4 c5 c3 Nf6 e5 Nd5 Nf3 Nc6 d4 cxd4 Bc4 Nb6 Bb...</td>\n",
       "    </tr>\n",
       "    <tr>\n",
       "      <th>3</th>\n",
       "      <td>Rated Blitz game</td>\n",
       "      <td>Matetricks</td>\n",
       "      <td>PRESA</td>\n",
       "      <td>0-1</td>\n",
       "      <td>e4 d5 exd5 Qxd5 Nc3 Qa5 d4 c6 Nf3 Nf6 Bc4 Bf5 ...</td>\n",
       "    </tr>\n",
       "    <tr>\n",
       "      <th>4</th>\n",
       "      <td>Rated Blitz game</td>\n",
       "      <td>ZibbitVideos</td>\n",
       "      <td>PRESA</td>\n",
       "      <td>1/2-1/2</td>\n",
       "      <td>c4 e6 g3 d5 Bg2 Nf6 Nf3 Be7 O-O c5 cxd5 Nxd5 d...</td>\n",
       "    </tr>\n",
       "  </tbody>\n",
       "</table>\n",
       "</div>"
      ],
      "text/plain": [
       "              Event               White               Black   Result  \\\n",
       "0  Rated Blitz game               PRESA  Blitzstream-twitch      1-0   \n",
       "1  Rated Blitz game  Blitzstream-twitch               PRESA      1-0   \n",
       "2  Rated Blitz game               PRESA          Matetricks  1/2-1/2   \n",
       "3  Rated Blitz game          Matetricks               PRESA      0-1   \n",
       "4  Rated Blitz game        ZibbitVideos               PRESA  1/2-1/2   \n",
       "\n",
       "                                               Moves  \n",
       "0  e4 e5 Nf3 Nc6 Bc4 Bc5 O-O d6 d3 Bg4 c3 Qf6 Be3...  \n",
       "1  e4 d5 Nc3 dxe4 Nxe4 Qd5 Qf3 Nc6 c3 Bf5 Ng3 Qxf...  \n",
       "2  e4 c5 c3 Nf6 e5 Nd5 Nf3 Nc6 d4 cxd4 Bc4 Nb6 Bb...  \n",
       "3  e4 d5 exd5 Qxd5 Nc3 Qa5 d4 c6 Nf3 Nf6 Bc4 Bf5 ...  \n",
       "4  c4 e6 g3 d5 Bg2 Nf6 Nf3 Be7 O-O c5 cxd5 Nxd5 d...  "
      ]
     },
     "execution_count": 3,
     "metadata": {},
     "output_type": "execute_result"
    }
   ],
   "source": [
    "data.head(5)"
   ]
  },
  {
   "cell_type": "code",
   "execution_count": 4,
   "id": "d9fcffa3-0309-48dc-a4b1-3cc1f417b313",
   "metadata": {},
   "outputs": [],
   "source": [
    "data=data.drop(columns=[\"Event\",\"White\",\"Black\",\"Result\"])"
   ]
  },
  {
   "cell_type": "code",
   "execution_count": 5,
   "id": "351b84cd-1c9c-4d0a-aaf4-2c49dbc5dd1d",
   "metadata": {},
   "outputs": [
    {
     "data": {
      "text/html": [
       "<div>\n",
       "<style scoped>\n",
       "    .dataframe tbody tr th:only-of-type {\n",
       "        vertical-align: middle;\n",
       "    }\n",
       "\n",
       "    .dataframe tbody tr th {\n",
       "        vertical-align: top;\n",
       "    }\n",
       "\n",
       "    .dataframe thead th {\n",
       "        text-align: right;\n",
       "    }\n",
       "</style>\n",
       "<table border=\"1\" class=\"dataframe\">\n",
       "  <thead>\n",
       "    <tr style=\"text-align: right;\">\n",
       "      <th></th>\n",
       "      <th>Moves</th>\n",
       "    </tr>\n",
       "  </thead>\n",
       "  <tbody>\n",
       "    <tr>\n",
       "      <th>0</th>\n",
       "      <td>e4 e5 Nf3 Nc6 Bc4 Bc5 O-O d6 d3 Bg4 c3 Qf6 Be3...</td>\n",
       "    </tr>\n",
       "    <tr>\n",
       "      <th>1</th>\n",
       "      <td>e4 d5 Nc3 dxe4 Nxe4 Qd5 Qf3 Nc6 c3 Bf5 Ng3 Qxf...</td>\n",
       "    </tr>\n",
       "    <tr>\n",
       "      <th>2</th>\n",
       "      <td>e4 c5 c3 Nf6 e5 Nd5 Nf3 Nc6 d4 cxd4 Bc4 Nb6 Bb...</td>\n",
       "    </tr>\n",
       "    <tr>\n",
       "      <th>3</th>\n",
       "      <td>e4 d5 exd5 Qxd5 Nc3 Qa5 d4 c6 Nf3 Nf6 Bc4 Bf5 ...</td>\n",
       "    </tr>\n",
       "    <tr>\n",
       "      <th>4</th>\n",
       "      <td>c4 e6 g3 d5 Bg2 Nf6 Nf3 Be7 O-O c5 cxd5 Nxd5 d...</td>\n",
       "    </tr>\n",
       "  </tbody>\n",
       "</table>\n",
       "</div>"
      ],
      "text/plain": [
       "                                               Moves\n",
       "0  e4 e5 Nf3 Nc6 Bc4 Bc5 O-O d6 d3 Bg4 c3 Qf6 Be3...\n",
       "1  e4 d5 Nc3 dxe4 Nxe4 Qd5 Qf3 Nc6 c3 Bf5 Ng3 Qxf...\n",
       "2  e4 c5 c3 Nf6 e5 Nd5 Nf3 Nc6 d4 cxd4 Bc4 Nb6 Bb...\n",
       "3  e4 d5 exd5 Qxd5 Nc3 Qa5 d4 c6 Nf3 Nf6 Bc4 Bf5 ...\n",
       "4  c4 e6 g3 d5 Bg2 Nf6 Nf3 Be7 O-O c5 cxd5 Nxd5 d..."
      ]
     },
     "execution_count": 5,
     "metadata": {},
     "output_type": "execute_result"
    }
   ],
   "source": [
    "data.head(5)"
   ]
  },
  {
   "cell_type": "code",
   "execution_count": 27,
   "id": "7466fdf5-8b16-4554-89f5-ccbcc44c8d3d",
   "metadata": {},
   "outputs": [
    {
     "data": {
      "text/plain": [
       "Moves    3\n",
       "dtype: int64"
      ]
     },
     "execution_count": 27,
     "metadata": {},
     "output_type": "execute_result"
    }
   ],
   "source": [
    "data.isnull().sum()"
   ]
  },
  {
   "cell_type": "code",
   "execution_count": 31,
   "id": "4d685f78-035b-4190-ac40-bd8a62e8540c",
   "metadata": {},
   "outputs": [],
   "source": [
    "data=data.dropna()"
   ]
  },
  {
   "cell_type": "code",
   "execution_count": 45,
   "id": "d4fa982a-628d-45a3-a76e-e286ecaa6f65",
   "metadata": {},
   "outputs": [],
   "source": [
    "data[\"Moves\"].dtype\n",
    "data['Moves'] = data['Moves'].astype(str)"
   ]
  },
  {
   "cell_type": "code",
   "execution_count": 8,
   "id": "0eadfc10-7059-4b28-aef3-5d325808222d",
   "metadata": {},
   "outputs": [],
   "source": [
    "x=data.iloc[0:5]"
   ]
  },
  {
   "cell_type": "code",
   "execution_count": 17,
   "id": "8779f79c-fd70-44fa-b9b8-e56e3d20a076",
   "metadata": {},
   "outputs": [
    {
     "data": {
      "text/html": [
       "<div>\n",
       "<style scoped>\n",
       "    .dataframe tbody tr th:only-of-type {\n",
       "        vertical-align: middle;\n",
       "    }\n",
       "\n",
       "    .dataframe tbody tr th {\n",
       "        vertical-align: top;\n",
       "    }\n",
       "\n",
       "    .dataframe thead th {\n",
       "        text-align: right;\n",
       "    }\n",
       "</style>\n",
       "<table border=\"1\" class=\"dataframe\">\n",
       "  <thead>\n",
       "    <tr style=\"text-align: right;\">\n",
       "      <th></th>\n",
       "      <th>Moves</th>\n",
       "    </tr>\n",
       "  </thead>\n",
       "  <tbody>\n",
       "    <tr>\n",
       "      <th>0</th>\n",
       "      <td>e4 e5 Nf3 Nc6 Bc4 Bc5 O-O d6 d3 Bg4 c3 Qf6 Be3...</td>\n",
       "    </tr>\n",
       "    <tr>\n",
       "      <th>1</th>\n",
       "      <td>e4 d5 Nc3 dxe4 Nxe4 Qd5 Qf3 Nc6 c3 Bf5 Ng3 Qxf...</td>\n",
       "    </tr>\n",
       "    <tr>\n",
       "      <th>2</th>\n",
       "      <td>e4 c5 c3 Nf6 e5 Nd5 Nf3 Nc6 d4 cxd4 Bc4 Nb6 Bb...</td>\n",
       "    </tr>\n",
       "    <tr>\n",
       "      <th>3</th>\n",
       "      <td>e4 d5 exd5 Qxd5 Nc3 Qa5 d4 c6 Nf3 Nf6 Bc4 Bf5 ...</td>\n",
       "    </tr>\n",
       "    <tr>\n",
       "      <th>4</th>\n",
       "      <td>c4 e6 g3 d5 Bg2 Nf6 Nf3 Be7 O-O c5 cxd5 Nxd5 d...</td>\n",
       "    </tr>\n",
       "  </tbody>\n",
       "</table>\n",
       "</div>"
      ],
      "text/plain": [
       "                                               Moves\n",
       "0  e4 e5 Nf3 Nc6 Bc4 Bc5 O-O d6 d3 Bg4 c3 Qf6 Be3...\n",
       "1  e4 d5 Nc3 dxe4 Nxe4 Qd5 Qf3 Nc6 c3 Bf5 Ng3 Qxf...\n",
       "2  e4 c5 c3 Nf6 e5 Nd5 Nf3 Nc6 d4 cxd4 Bc4 Nb6 Bb...\n",
       "3  e4 d5 exd5 Qxd5 Nc3 Qa5 d4 c6 Nf3 Nf6 Bc4 Bf5 ...\n",
       "4  c4 e6 g3 d5 Bg2 Nf6 Nf3 Be7 O-O c5 cxd5 Nxd5 d..."
      ]
     },
     "execution_count": 17,
     "metadata": {},
     "output_type": "execute_result"
    }
   ],
   "source": [
    "x"
   ]
  },
  {
   "cell_type": "code",
   "execution_count": 49,
   "id": "e8ac836a-ef89-433e-aa57-a3397357e08e",
   "metadata": {},
   "outputs": [
    {
     "name": "stderr",
     "output_type": "stream",
     "text": [
      "100%|███████████████████████████████| 1225966/1225966 [19:10<00:00, 1065.71it/s]\n"
     ]
    }
   ],
   "source": [
    "import chess\n",
    "from tqdm import tqdm\n",
    "import pandas as pd\n",
    "\n",
    "# Initialize tqdm for pandas\n",
    "tqdm.pandas()\n",
    "\n",
    "# Function to convert moves to UCI\n",
    "def convert_to_uci(game_moves):\n",
    "    if not isinstance(game_moves, str):  # Handle non-string values\n",
    "        return \"\"\n",
    "    board = chess.Board()\n",
    "    moves_uci = []\n",
    "    moves = game_moves.split()  # Split moves by spaces\n",
    "\n",
    "    for move in moves:\n",
    "        try:\n",
    "            # Push move to the board using SAN and convert to UCI\n",
    "            move_obj = board.push_san(move)\n",
    "            moves_uci.append(move_obj.uci())\n",
    "        except ValueError:\n",
    "            # Skip invalid moves\n",
    "            break\n",
    "    return \" \".join(moves_uci)\n",
    "\n",
    "# Ensure 'Moves' column is a string and apply the function with progress bar\n",
    "data[\"Moves\"] = data[\"Moves\"].fillna(\"\").astype(str)\n",
    "data[\"Moves\"] = data[\"Moves\"].progress_apply(convert_to_uci)"
   ]
  },
  {
   "cell_type": "code",
   "execution_count": 51,
   "id": "adb15a50-d1b3-4680-adf7-6e2cb15d8ef4",
   "metadata": {},
   "outputs": [
    {
     "data": {
      "text/html": [
       "<div>\n",
       "<style scoped>\n",
       "    .dataframe tbody tr th:only-of-type {\n",
       "        vertical-align: middle;\n",
       "    }\n",
       "\n",
       "    .dataframe tbody tr th {\n",
       "        vertical-align: top;\n",
       "    }\n",
       "\n",
       "    .dataframe thead th {\n",
       "        text-align: right;\n",
       "    }\n",
       "</style>\n",
       "<table border=\"1\" class=\"dataframe\">\n",
       "  <thead>\n",
       "    <tr style=\"text-align: right;\">\n",
       "      <th></th>\n",
       "      <th>Moves</th>\n",
       "    </tr>\n",
       "  </thead>\n",
       "  <tbody>\n",
       "    <tr>\n",
       "      <th>0</th>\n",
       "      <td>e2e4 e7e5 g1f3 b8c6 f1c4 f8c5 e1g1 d7d6 d2d3 c...</td>\n",
       "    </tr>\n",
       "    <tr>\n",
       "      <th>1</th>\n",
       "      <td>e2e4 d7d5 b1c3 d5e4 c3e4 d8d5 d1f3 b8c6 c2c3 c...</td>\n",
       "    </tr>\n",
       "    <tr>\n",
       "      <th>2</th>\n",
       "      <td>e2e4 c7c5 c2c3 g8f6 e4e5 f6d5 g1f3 b8c6 d2d4 c...</td>\n",
       "    </tr>\n",
       "    <tr>\n",
       "      <th>3</th>\n",
       "      <td>e2e4 d7d5 e4d5 d8d5 b1c3 d5a5 d2d4 c7c6 g1f3 g...</td>\n",
       "    </tr>\n",
       "    <tr>\n",
       "      <th>4</th>\n",
       "      <td>c2c4 e7e6 g2g3 d7d5 f1g2 g8f6 g1f3 f8e7 e1g1 c...</td>\n",
       "    </tr>\n",
       "  </tbody>\n",
       "</table>\n",
       "</div>"
      ],
      "text/plain": [
       "                                               Moves\n",
       "0  e2e4 e7e5 g1f3 b8c6 f1c4 f8c5 e1g1 d7d6 d2d3 c...\n",
       "1  e2e4 d7d5 b1c3 d5e4 c3e4 d8d5 d1f3 b8c6 c2c3 c...\n",
       "2  e2e4 c7c5 c2c3 g8f6 e4e5 f6d5 g1f3 b8c6 d2d4 c...\n",
       "3  e2e4 d7d5 e4d5 d8d5 b1c3 d5a5 d2d4 c7c6 g1f3 g...\n",
       "4  c2c4 e7e6 g2g3 d7d5 f1g2 g8f6 g1f3 f8e7 e1g1 c..."
      ]
     },
     "execution_count": 51,
     "metadata": {},
     "output_type": "execute_result"
    }
   ],
   "source": [
    "data.head(5)"
   ]
  },
  {
   "cell_type": "code",
   "execution_count": 53,
   "id": "2d672b57-ef27-4d2a-a7cf-198076a2e3a3",
   "metadata": {},
   "outputs": [],
   "source": [
    "data.to_csv('/Users/nihaalnadaf/Downloads/chess/untitled folder/data.csv')"
   ]
  },
  {
   "cell_type": "code",
   "execution_count": 423,
   "id": "c6f1e109-f446-439f-8437-69538980341b",
   "metadata": {},
   "outputs": [],
   "source": [
    "data=pd.read_csv('/Users/nihaalnadaf/Downloads/chess/untitled folder/data.csv')"
   ]
  },
  {
   "cell_type": "code",
   "execution_count": null,
   "id": "da1ce61b-255c-441f-bc81-b5a1e3789936",
   "metadata": {},
   "outputs": [],
   "source": [
    "data.head(5)"
   ]
  },
  {
   "cell_type": "code",
   "execution_count": 427,
   "id": "bea118e9-2efc-4505-ab67-13510eea60d8",
   "metadata": {},
   "outputs": [],
   "source": [
    "data = data.drop(columns=\"Unnamed: 0\", axis=1)"
   ]
  },
  {
   "cell_type": "code",
   "execution_count": 429,
   "id": "ad219cf2-8fcf-4683-bb5f-b04f5bbada30",
   "metadata": {},
   "outputs": [
    {
     "name": "stdout",
     "output_type": "stream",
     "text": [
      "e2e4 e7e5 g1f3 b8c6 f1c4 f8c5 e1g1 d7d6 d2d3 c8g4 c2c3 d8f6 c1e3 c5b6 b1d2 g8e7 h2h3 h7h5 d1e1 e8c8 b2b4 g4e6 b4b5 c6a5 e3g5 f6g6 g5e7 d8e8 f3h4 g6g3 c4e6 f7e6 g1h1 g3d3 e7g5 d3c3 d2f3 h8g8 e1c3\n"
     ]
    },
    {
     "data": {
      "text/plain": [
       "(194, None)"
      ]
     },
     "execution_count": 429,
     "metadata": {},
     "output_type": "execute_result"
    }
   ],
   "source": [
    "len(data['Moves'][0]),print(data['Moves'][0])"
   ]
  },
  {
   "cell_type": "code",
   "execution_count": 431,
   "id": "e299d827-5d32-45e2-912a-c7db81a09b44",
   "metadata": {},
   "outputs": [],
   "source": [
    "# Drop rows where the length of 'Moves' is 250 or more\n",
    "data = data[data['Moves'].str.len() < 350]"
   ]
  },
  {
   "cell_type": "code",
   "execution_count": 433,
   "id": "0d81a91c-ec3e-4646-88b4-2cadc1c7127a",
   "metadata": {},
   "outputs": [
    {
     "data": {
      "text/plain": [
       "<bound method NDFrame.describe of                                                      Moves\n",
       "0        e2e4 e7e5 g1f3 b8c6 f1c4 f8c5 e1g1 d7d6 d2d3 c...\n",
       "6        e2e4 c7c5 g1f3 d7d6 d2d4 c5d4 f3d4 g8f6 b1c3 g...\n",
       "12       e2e4 g8f6 e4e5 f6d5 d2d4 d7d6 c2c4 d5b6 e5d6 e...\n",
       "14       e2e4 e7e5 g1f3 b8c6 f1b5 g7g6 c2c3 a7a6 b5a4 d...\n",
       "18       e2e4 c7c5 g1f3 b8c6 d2d4 c5d4 f3d4 g8f6 b1c3 e...\n",
       "...                                                    ...\n",
       "1225954  d2d4 d7d5 c1f4 g8f6 e2e3 c8f5 c2c4 e7e6 b1c3 f...\n",
       "1225955  e2e4 c7c5 g1f3 d7d6 d2d4 c5d4 f3d4 g8f6 b1c3 a...\n",
       "1225961  e2e4 c7c5 g1f3 d7d6 d2d4 c5d4 f3d4 g8f6 b1c3 a...\n",
       "1225962  h2h4 b8c6 h4h5 h7h6 d2d4 d7d6 d4d5 c6b8 c2c4 e...\n",
       "1225964  c2c4 e7e5 g2g3 b8c6 f1g2 g7g6 b1c3 f8g7 e2e4 d...\n",
       "\n",
       "[512941 rows x 1 columns]>"
      ]
     },
     "execution_count": 433,
     "metadata": {},
     "output_type": "execute_result"
    }
   ],
   "source": [
    "data.describe"
   ]
  },
  {
   "cell_type": "code",
   "execution_count": 435,
   "id": "023bd9ee-5c13-4682-b439-476e5e04d12c",
   "metadata": {},
   "outputs": [
    {
     "name": "stderr",
     "output_type": "stream",
     "text": [
      "Processing Moves: 100%|█████████████| 512941/512941 [00:01<00:00, 382731.55it/s]\n"
     ]
    }
   ],
   "source": [
    "import random\n",
    "from tqdm import tqdm\n",
    "\n",
    "def split_moves(game_moves):\n",
    "    moves = game_moves.split()\n",
    "    if len(moves) < 2:  # Skip games with fewer than 2 moves\n",
    "        return None\n",
    "    split_index = random.randint(1, len(moves) - 1)  # Ensure at least one move in x and y\n",
    "    x = \" \".join(moves[:split_index])  # Moves up to the split index\n",
    "    y = moves[split_index]  # Next move\n",
    "    return x, y\n",
    "\n",
    "# Apply the function to create x and y with tqdm for progress bar\n",
    "tqdm.pandas(desc=\"Processing Moves\")\n",
    "xy_pairs = data[\"Moves\"].dropna().progress_apply(split_moves).dropna()\n",
    "\n",
    "# Convert the result into a DataFrame\n",
    "xy_df = pd.DataFrame(xy_pairs.tolist(), columns=[\"x\", \"y\"])"
   ]
  },
  {
   "cell_type": "code",
   "execution_count": 437,
   "id": "7bbdda66-24a0-4757-a579-5d07f120e9f4",
   "metadata": {},
   "outputs": [
    {
     "data": {
      "text/html": [
       "<div>\n",
       "<style scoped>\n",
       "    .dataframe tbody tr th:only-of-type {\n",
       "        vertical-align: middle;\n",
       "    }\n",
       "\n",
       "    .dataframe tbody tr th {\n",
       "        vertical-align: top;\n",
       "    }\n",
       "\n",
       "    .dataframe thead th {\n",
       "        text-align: right;\n",
       "    }\n",
       "</style>\n",
       "<table border=\"1\" class=\"dataframe\">\n",
       "  <thead>\n",
       "    <tr style=\"text-align: right;\">\n",
       "      <th></th>\n",
       "      <th>x</th>\n",
       "      <th>y</th>\n",
       "    </tr>\n",
       "  </thead>\n",
       "  <tbody>\n",
       "    <tr>\n",
       "      <th>0</th>\n",
       "      <td>e2e4 e7e5 g1f3 b8c6 f1c4 f8c5 e1g1 d7d6 d2d3 c...</td>\n",
       "      <td>d8e8</td>\n",
       "    </tr>\n",
       "    <tr>\n",
       "      <th>1</th>\n",
       "      <td>e2e4 c7c5 g1f3</td>\n",
       "      <td>d7d6</td>\n",
       "    </tr>\n",
       "  </tbody>\n",
       "</table>\n",
       "</div>"
      ],
      "text/plain": [
       "                                                   x     y\n",
       "0  e2e4 e7e5 g1f3 b8c6 f1c4 f8c5 e1g1 d7d6 d2d3 c...  d8e8\n",
       "1                                     e2e4 c7c5 g1f3  d7d6"
      ]
     },
     "execution_count": 437,
     "metadata": {},
     "output_type": "execute_result"
    }
   ],
   "source": [
    "xy_df.head(2)"
   ]
  },
  {
   "cell_type": "code",
   "execution_count": 439,
   "id": "3764b015-f931-4eed-b2f1-da7d77c0a397",
   "metadata": {},
   "outputs": [],
   "source": [
    "from sklearn.model_selection import train_test_split\n",
    "X_train, X_test, Y_train, Y_test = train_test_split(xy_df[\"x\"], xy_df[\"y\"], test_size=0.2, random_state=42)\n"
   ]
  },
  {
   "cell_type": "code",
   "execution_count": 441,
   "id": "a018637b-88c0-4d8d-bc6e-d7a425416816",
   "metadata": {},
   "outputs": [
    {
     "name": "stdout",
     "output_type": "stream",
     "text": [
      "Training data (X):\n",
      "425148    d2d4 g8f6 c1f4 c7c5 e2e3 f6d5 f4g3 d8b6 b1c3 d...\n",
      "84475                                             e2e4 e7e5\n",
      "199202    b2b3 d7d5 c1b2 c7c5 g1f3 f7f6 e2e3 e7e5 d2d4 c...\n",
      "417835    e2e4 e7e6 d2d4 d7d5 b1c3 g8f6 e4e5 f6d7 f2f4 c...\n",
      "260147    d2d4 g8f6 c2c3 d7d5 c1f4 c8f5 b1d2 e7e6 d1b3 b...\n",
      "Name: x, dtype: object \n",
      "Size : 410347\n",
      "\n",
      "Test data (X):\n",
      "272761    d2d4 g8f6 g1f3 e7e6 c2c4 f8b4 c1d2 b4d2 d1d2 d...\n",
      "293977    d2d4 g8f6 c2c4 e7e6 g1f3 b7b6 g2g3 c8b7 f1g2 f...\n",
      "8077      c2c4 c7c6 g1f3 g8f6 e2e3 d7d5 d1c2 e7e6 b2b3 a...\n",
      "87319     e2e4 c7c5 b1c3 b8c6 f1b5 d8c7 f2f4 a7a6 b5c6 c...\n",
      "488934    d2d4 g8f6 c2c4 g7g6 b1c3 d7d5 c4d5 f6d5 e2e4 d...\n",
      "Name: x, dtype: object \n",
      "Size :102587\n",
      "\n",
      "Training labels (y):\n",
      "425148    h4h5\n",
      "84475     g1f3\n",
      "199202    g4h3\n",
      "417835    a8a7\n",
      "260147    c4d5\n",
      "Name: y, dtype: object \n",
      "Size :410347\n",
      "\n",
      "Test labels (y):\n",
      "272761    c7c5\n",
      "293977    f4f7\n",
      "8077      c2f5\n",
      "87319     d4e6\n",
      "488934    f7f6\n",
      "Name: y, dtype: object \n",
      "Size :102587\n"
     ]
    }
   ],
   "source": [
    "print(\"Training data (X):\")\n",
    "print(X_train.head(),f\"\\nSize : {X_train.size}\")\n",
    "print(\"\\nTest data (X):\")\n",
    "print(X_test.head(),f\"\\nSize :{X_test.size}\")\n",
    "print(\"\\nTraining labels (y):\")\n",
    "print(Y_train.head(),f\"\\nSize :{Y_train.size}\")\n",
    "print(\"\\nTest labels (y):\")\n",
    "print(Y_test.head(),f\"\\nSize :{Y_test.size}\")"
   ]
  },
  {
   "cell_type": "code",
   "execution_count": 443,
   "id": "c4e358c4-c46c-4aa4-a801-84692c722ea1",
   "metadata": {},
   "outputs": [
    {
     "name": "stdout",
     "output_type": "stream",
     "text": [
      "Max sequence length: 70\n",
      "Games with maximum number of moves:\n",
      "                                                     Moves\n",
      "186      d2d4 g8f6 c2c4 e7e6 g1f3 f8b4 b1d2 b7b6 e2e3 c...\n",
      "472      d2d4 e7e6 g1f3 g8f6 c2c4 f8e7 b1c3 e8g8 e2e4 h...\n",
      "557      d2d4 c7c6 g1f3 d8a5 d1d2 a5h5 d2g5 h5g5 c1g5 d...\n",
      "588      e2e4 c7c5 g1f3 d7d6 d2d4 c5d4 f3d4 g8f6 b1c3 a...\n",
      "676      e2e4 e7e6 d2d4 c7c5 g1f3 c5d4 f3d4 a7a6 f1d3 b...\n",
      "...                                                    ...\n",
      "1225477  e2e4 d7d6 d2d4 g7g6 b1c3 f8g7 c1e3 c7c6 h2h4 h...\n",
      "1225532  e2e4 c7c5 g1f3 e7e6 b2b3 d7d5 e4d5 e6d5 f1b5 b...\n",
      "1225589  d2d4 e7e6 c2c4 g8f6 e2e3 c7c5 f1d3 d7d5 c4d5 e...\n",
      "1225688  c2c4 c7c5 g2g3 e7e6 f1g2 d7d5 c4d5 e6d5 d2d4 g...\n",
      "1225799  d2d4 d7d5 b1c3 g8f6 c1g5 c7c6 f2f3 b8d7 e2e4 h...\n",
      "\n",
      "[13698 rows x 1 columns]\n"
     ]
    }
   ],
   "source": [
    "sequence_lengths = [len(move.split()) for move in data[\"Moves\"]]\n",
    "\n",
    "# Get the maximum sequence length\n",
    "max_sequence_length = max(sequence_lengths)\n",
    "\n",
    "# Pinpoint games with the maximum sequence length\n",
    "max_games = data.iloc[[i for i, length in enumerate(sequence_lengths) if length == max_sequence_length]]\n",
    "\n",
    "# Print the result\n",
    "print(f\"Max sequence length: {max_sequence_length}\")\n",
    "print(\"Games with maximum number of moves:\")\n",
    "print(max_games)"
   ]
  },
  {
   "cell_type": "code",
   "execution_count": 445,
   "id": "a4a41780-68b4-425a-8018-d108797f58db",
   "metadata": {},
   "outputs": [],
   "source": [
    "from tensorflow.keras.preprocessing.text import Tokenizer\n",
    "from tensorflow.keras.preprocessing.sequence import pad_sequences\n",
    "# Define the character set for chess notation (a-h, 1-8, move separator, etc.)\n",
    "char_set = 'abcdefgh12345678'\n",
    "tokenizer = Tokenizer(char_level=True, filters='', lower=False)  \n",
    "tokenizer.fit_on_texts(xy_df['x']+xy_df['y'])"
   ]
  },
  {
   "cell_type": "code",
   "execution_count": 447,
   "id": "1830c194-18eb-4007-b8b7-8a6019688f39",
   "metadata": {},
   "outputs": [],
   "source": [
    "# Convert text to sequences\n",
    "X_train_seq = tokenizer.texts_to_sequences(X_train)\n",
    "X_test_seq = tokenizer.texts_to_sequences(X_test)\n",
    "Y_train_seq = tokenizer.texts_to_sequences(Y_train)\n",
    "Y_test_seq = tokenizer.texts_to_sequences(Y_test)\n"
   ]
  },
  {
   "cell_type": "code",
   "execution_count": 449,
   "id": "5342f750-14dd-48da-a8e0-2a43e74a7044",
   "metadata": {},
   "outputs": [
    {
     "name": "stdout",
     "output_type": "stream",
     "text": [
      "Unique tokens: {' ': 1, 'd': 2, 'e': 3, 'c': 4, 'f': 5, '4': 6, '5': 7, '6': 8, 'g': 9, '7': 10, '1': 11, '8': 12, '2': 13, '3': 14, 'b': 15, 'a': 16, 'h': 17, 'q': 18, 'r': 19, 'n': 20}\n"
     ]
    }
   ],
   "source": [
    "# Assuming tokenizer is already fitted on text data\n",
    "unique_tokens = tokenizer.word_index  # Get all unique tokens (keys)\n",
    "print(\"Unique tokens:\", unique_tokens)\n"
   ]
  },
  {
   "cell_type": "code",
   "execution_count": 451,
   "id": "6647e3cb-d961-4b45-b29c-56fd9b1d00f5",
   "metadata": {},
   "outputs": [
    {
     "data": {
      "text/plain": [
       "'e2e4 e7e5 g1f3 b8c6 f1c4 f8c5 e1g1 d7d6 d2d3 c8g4 c2c3 d8f6 c1e3 c5b6 b1d2 g8e7 h2h3 h7h5 d1e1 e8c8 b2b4 g4e6 b4b5 c6a5 e3g5 f6g6 g5e7'"
      ]
     },
     "execution_count": 451,
     "metadata": {},
     "output_type": "execute_result"
    }
   ],
   "source": [
    "d=X_train[0]\n",
    "d"
   ]
  },
  {
   "cell_type": "code",
   "execution_count": 453,
   "id": "bd19bec2-a7dc-428e-8d12-d49c9b80d500",
   "metadata": {},
   "outputs": [],
   "source": [
    "a=X_train_seq[1]\n",
    "a=list(a)"
   ]
  },
  {
   "cell_type": "code",
   "execution_count": 461,
   "id": "2c5503cb-f8a0-437d-980e-eb70269f7773",
   "metadata": {},
   "outputs": [
    {
     "data": {
      "text/plain": [
       "[3, 13, 3, 6, 1, 3, 10, 3, 7]"
      ]
     },
     "execution_count": 461,
     "metadata": {},
     "output_type": "execute_result"
    }
   ],
   "source": [
    "v=X_train_seq[1]\n",
    "v"
   ]
  },
  {
   "cell_type": "code",
   "execution_count": 463,
   "id": "39917280-001f-4c0a-95a5-0ca2b1159fe2",
   "metadata": {},
   "outputs": [
    {
     "name": "stdout",
     "output_type": "stream",
     "text": [
      "e 2 e 4   e 7 e 5\n"
     ]
    }
   ],
   "source": [
    "# Example: Converting sequence back to text\n",
    "text = tokenizer.sequences_to_texts([a])\n",
    "print(text[0])  # Access the first (and only) sequence"
   ]
  },
  {
   "cell_type": "code",
   "execution_count": 483,
   "id": "8dfaedf3-87f3-4a93-aad5-2ef4de7255f1",
   "metadata": {},
   "outputs": [],
   "source": [
    "# Padding sequences to ensure uniform length\n",
    "X_train_padded = tf.keras.preprocessing.sequence.pad_sequences(X_train_seq, padding='post',maxlen=310)\n",
    "X_test_padded = tf.keras.preprocessing.sequence.pad_sequences(X_test_seq, padding='post',maxlen=310)\n",
    "Y_train_padded = tf.keras.preprocessing.sequence.pad_sequences(Y_train_seq, padding='post',maxlen=310)\n",
    "Y_test_padded = tf.keras.preprocessing.sequence.pad_sequences(Y_test_seq, padding='post',maxlen=310)\n"
   ]
  },
  {
   "cell_type": "code",
   "execution_count": 485,
   "id": "71a53147-31cb-4f7a-8675-db99a074b1d5",
   "metadata": {},
   "outputs": [
    {
     "data": {
      "text/plain": [
       "(array([ 2, 13,  2,  6,  1,  9, 12,  5,  8,  1,  4, 11,  5,  6,  1,  4, 10,\n",
       "         4,  7,  1,  3, 13,  3, 14,  1,  5,  8,  2,  7,  1,  5,  6,  9, 14,\n",
       "         1,  2, 12, 15,  8,  1, 15, 11,  4, 14,  1,  2,  7,  4, 14,  1, 15,\n",
       "        13,  4, 14,  1,  9, 10,  9,  8,  1,  5, 11,  4,  6,  1,  5, 12,  9,\n",
       "        10,  1,  9, 11,  5, 14,  1,  3, 12,  9, 12,  1,  3, 11,  9, 11,  1,\n",
       "        15,  8, 16,  7,  1,  2, 11,  2, 14,  1,  2, 10,  2,  8,  1, 17, 13,\n",
       "        17,  6,  1,  4, 12,  9,  6,  1,  5, 14,  9,  7,  1, 15, 12,  4,  8,\n",
       "         1,  5, 13,  5, 14,  1,  9,  6,  2, 10,  0,  0,  0,  0,  0,  0,  0,\n",
       "         0,  0,  0,  0,  0,  0,  0,  0,  0,  0,  0,  0,  0,  0,  0,  0,  0,\n",
       "         0,  0,  0,  0,  0,  0,  0,  0,  0,  0,  0,  0,  0,  0,  0,  0,  0,\n",
       "         0,  0,  0,  0,  0,  0,  0,  0,  0,  0,  0,  0,  0,  0,  0,  0,  0,\n",
       "         0,  0,  0,  0,  0,  0,  0,  0,  0,  0,  0,  0,  0,  0,  0,  0,  0,\n",
       "         0,  0,  0,  0,  0,  0,  0,  0,  0,  0,  0,  0,  0,  0,  0,  0,  0,\n",
       "         0,  0,  0,  0,  0,  0,  0,  0,  0,  0,  0,  0,  0,  0,  0,  0,  0,\n",
       "         0,  0,  0,  0,  0,  0,  0,  0,  0,  0,  0,  0,  0,  0,  0,  0,  0,\n",
       "         0,  0,  0,  0,  0,  0,  0,  0,  0,  0,  0,  0,  0,  0,  0,  0,  0,\n",
       "         0,  0,  0,  0,  0,  0,  0,  0,  0,  0,  0,  0,  0,  0,  0,  0,  0,\n",
       "         0,  0,  0,  0,  0,  0,  0,  0,  0,  0,  0,  0,  0,  0,  0,  0,  0,\n",
       "         0,  0,  0,  0], dtype=int32),\n",
       " array([17,  6, 17,  7,  0,  0,  0,  0,  0,  0,  0,  0,  0,  0,  0,  0,  0,\n",
       "         0,  0,  0,  0,  0,  0,  0,  0,  0,  0,  0,  0,  0,  0,  0,  0,  0,\n",
       "         0,  0,  0,  0,  0,  0,  0,  0,  0,  0,  0,  0,  0,  0,  0,  0,  0,\n",
       "         0,  0,  0,  0,  0,  0,  0,  0,  0,  0,  0,  0,  0,  0,  0,  0,  0,\n",
       "         0,  0,  0,  0,  0,  0,  0,  0,  0,  0,  0,  0,  0,  0,  0,  0,  0,\n",
       "         0,  0,  0,  0,  0,  0,  0,  0,  0,  0,  0,  0,  0,  0,  0,  0,  0,\n",
       "         0,  0,  0,  0,  0,  0,  0,  0,  0,  0,  0,  0,  0,  0,  0,  0,  0,\n",
       "         0,  0,  0,  0,  0,  0,  0,  0,  0,  0,  0,  0,  0,  0,  0,  0,  0,\n",
       "         0,  0,  0,  0,  0,  0,  0,  0,  0,  0,  0,  0,  0,  0,  0,  0,  0,\n",
       "         0,  0,  0,  0,  0,  0,  0,  0,  0,  0,  0,  0,  0,  0,  0,  0,  0,\n",
       "         0,  0,  0,  0,  0,  0,  0,  0,  0,  0,  0,  0,  0,  0,  0,  0,  0,\n",
       "         0,  0,  0,  0,  0,  0,  0,  0,  0,  0,  0,  0,  0,  0,  0,  0,  0,\n",
       "         0,  0,  0,  0,  0,  0,  0,  0,  0,  0,  0,  0,  0,  0,  0,  0,  0,\n",
       "         0,  0,  0,  0,  0,  0,  0,  0,  0,  0,  0,  0,  0,  0,  0,  0,  0,\n",
       "         0,  0,  0,  0,  0,  0,  0,  0,  0,  0,  0,  0,  0,  0,  0,  0,  0,\n",
       "         0,  0,  0,  0,  0,  0,  0,  0,  0,  0,  0,  0,  0,  0,  0,  0,  0,\n",
       "         0,  0,  0,  0,  0,  0,  0,  0,  0,  0,  0,  0,  0,  0,  0,  0,  0,\n",
       "         0,  0,  0,  0,  0,  0,  0,  0,  0,  0,  0,  0,  0,  0,  0,  0,  0,\n",
       "         0,  0,  0,  0], dtype=int32))"
      ]
     },
     "execution_count": 485,
     "metadata": {},
     "output_type": "execute_result"
    }
   ],
   "source": [
    "X_train_padded[0],Y_train_padded[0]"
   ]
  },
  {
   "cell_type": "code",
   "execution_count": 489,
   "id": "ce8d0d9d-05fc-423c-bed4-65514c5a0771",
   "metadata": {},
   "outputs": [],
   "source": [
    "# Convert data to TensorFlow Datasets\n",
    "train_dataset = tf.data.Dataset.from_tensor_slices((X_train_padded, Y_train_padded))\n",
    "test_dataset = tf.data.Dataset.from_tensor_slices((X_test_padded,Y_test_padded))\n",
    "\n",
    "# Shuffle, batch, and prefetch\n",
    "batch_size = 32\n",
    "train_dataset = train_dataset.shuffle(buffer_size=1000).batch(batch_size).prefetch(tf.data.AUTOTUNE)\n",
    "test_dataset = test_dataset.batch(batch_size).prefetch(tf.data.AUTOTUNE)"
   ]
  },
  {
   "cell_type": "code",
   "execution_count": null,
   "id": "e1b7a5d0-55e3-44c9-9858-8252bb29bc63",
   "metadata": {},
   "outputs": [],
   "source": [
    "for data in train_dataset.take(1):  # Access the first element\n",
    "    print(data)"
   ]
  },
  {
   "cell_type": "code",
   "execution_count": 495,
   "id": "67ac32de-412a-4eb0-80cf-821d4aa45758",
   "metadata": {},
   "outputs": [
    {
     "name": "stderr",
     "output_type": "stream",
     "text": [
      "/opt/anaconda3/envs/tf-gpu/lib/python3.9/site-packages/keras/src/layers/layer.py:932: UserWarning: Layer 'conv1d_6' (of type Conv1D) was passed an input with a mask attached to it. However, this layer does not support masking and will therefore destroy the mask information. Downstream layers will not see the mask.\n",
      "  warnings.warn(\n"
     ]
    },
    {
     "data": {
      "text/html": [
       "<pre style=\"white-space:pre;overflow-x:auto;line-height:normal;font-family:Menlo,'DejaVu Sans Mono',consolas,'Courier New',monospace\"><span style=\"font-weight: bold\">Model: \"functional_3\"</span>\n",
       "</pre>\n"
      ],
      "text/plain": [
       "\u001b[1mModel: \"functional_3\"\u001b[0m\n"
      ]
     },
     "metadata": {},
     "output_type": "display_data"
    },
    {
     "data": {
      "text/html": [
       "<pre style=\"white-space:pre;overflow-x:auto;line-height:normal;font-family:Menlo,'DejaVu Sans Mono',consolas,'Courier New',monospace\">┏━━━━━━━━━━━━━━━━━━━━━━━━━━━━━━━━━┳━━━━━━━━━━━━━━━━━━━━━━━━┳━━━━━━━━━━━━━━━┓\n",
       "┃<span style=\"font-weight: bold\"> Layer (type)                    </span>┃<span style=\"font-weight: bold\"> Output Shape           </span>┃<span style=\"font-weight: bold\">       Param # </span>┃\n",
       "┡━━━━━━━━━━━━━━━━━━━━━━━━━━━━━━━━━╇━━━━━━━━━━━━━━━━━━━━━━━━╇━━━━━━━━━━━━━━━┩\n",
       "│ input_layer_4 (<span style=\"color: #0087ff; text-decoration-color: #0087ff\">InputLayer</span>)      │ (<span style=\"color: #00d7ff; text-decoration-color: #00d7ff\">None</span>, <span style=\"color: #00af00; text-decoration-color: #00af00\">310</span>)            │             <span style=\"color: #00af00; text-decoration-color: #00af00\">0</span> │\n",
       "├─────────────────────────────────┼────────────────────────┼───────────────┤\n",
       "│ embedding_4 (<span style=\"color: #0087ff; text-decoration-color: #0087ff\">Embedding</span>)         │ (<span style=\"color: #00d7ff; text-decoration-color: #00d7ff\">None</span>, <span style=\"color: #00af00; text-decoration-color: #00af00\">310</span>, <span style=\"color: #00af00; text-decoration-color: #00af00\">128</span>)       │         <span style=\"color: #00af00; text-decoration-color: #00af00\">2,688</span> │\n",
       "├─────────────────────────────────┼────────────────────────┼───────────────┤\n",
       "│ masking (<span style=\"color: #0087ff; text-decoration-color: #0087ff\">Masking</span>)               │ (<span style=\"color: #00d7ff; text-decoration-color: #00d7ff\">None</span>, <span style=\"color: #00af00; text-decoration-color: #00af00\">310</span>, <span style=\"color: #00af00; text-decoration-color: #00af00\">128</span>)       │             <span style=\"color: #00af00; text-decoration-color: #00af00\">0</span> │\n",
       "├─────────────────────────────────┼────────────────────────┼───────────────┤\n",
       "│ conv1d_6 (<span style=\"color: #0087ff; text-decoration-color: #0087ff\">Conv1D</span>)               │ (<span style=\"color: #00d7ff; text-decoration-color: #00d7ff\">None</span>, <span style=\"color: #00af00; text-decoration-color: #00af00\">310</span>, <span style=\"color: #00af00; text-decoration-color: #00af00\">64</span>)        │        <span style=\"color: #00af00; text-decoration-color: #00af00\">24,640</span> │\n",
       "├─────────────────────────────────┼────────────────────────┼───────────────┤\n",
       "│ conv1d_7 (<span style=\"color: #0087ff; text-decoration-color: #0087ff\">Conv1D</span>)               │ (<span style=\"color: #00d7ff; text-decoration-color: #00d7ff\">None</span>, <span style=\"color: #00af00; text-decoration-color: #00af00\">310</span>, <span style=\"color: #00af00; text-decoration-color: #00af00\">128</span>)       │        <span style=\"color: #00af00; text-decoration-color: #00af00\">24,704</span> │\n",
       "├─────────────────────────────────┼────────────────────────┼───────────────┤\n",
       "│ lstm_6 (<span style=\"color: #0087ff; text-decoration-color: #0087ff\">LSTM</span>)                   │ (<span style=\"color: #00d7ff; text-decoration-color: #00d7ff\">None</span>, <span style=\"color: #00af00; text-decoration-color: #00af00\">310</span>, <span style=\"color: #00af00; text-decoration-color: #00af00\">128</span>)       │       <span style=\"color: #00af00; text-decoration-color: #00af00\">131,584</span> │\n",
       "├─────────────────────────────────┼────────────────────────┼───────────────┤\n",
       "│ lstm_7 (<span style=\"color: #0087ff; text-decoration-color: #0087ff\">LSTM</span>)                   │ (<span style=\"color: #00d7ff; text-decoration-color: #00d7ff\">None</span>, <span style=\"color: #00af00; text-decoration-color: #00af00\">310</span>, <span style=\"color: #00af00; text-decoration-color: #00af00\">128</span>)       │       <span style=\"color: #00af00; text-decoration-color: #00af00\">131,584</span> │\n",
       "├─────────────────────────────────┼────────────────────────┼───────────────┤\n",
       "│ time_distributed_2              │ (<span style=\"color: #00d7ff; text-decoration-color: #00d7ff\">None</span>, <span style=\"color: #00af00; text-decoration-color: #00af00\">310</span>, <span style=\"color: #00af00; text-decoration-color: #00af00\">21</span>)        │         <span style=\"color: #00af00; text-decoration-color: #00af00\">2,709</span> │\n",
       "│ (<span style=\"color: #0087ff; text-decoration-color: #0087ff\">TimeDistributed</span>)               │                        │               │\n",
       "└─────────────────────────────────┴────────────────────────┴───────────────┘\n",
       "</pre>\n"
      ],
      "text/plain": [
       "┏━━━━━━━━━━━━━━━━━━━━━━━━━━━━━━━━━┳━━━━━━━━━━━━━━━━━━━━━━━━┳━━━━━━━━━━━━━━━┓\n",
       "┃\u001b[1m \u001b[0m\u001b[1mLayer (type)                   \u001b[0m\u001b[1m \u001b[0m┃\u001b[1m \u001b[0m\u001b[1mOutput Shape          \u001b[0m\u001b[1m \u001b[0m┃\u001b[1m \u001b[0m\u001b[1m      Param #\u001b[0m\u001b[1m \u001b[0m┃\n",
       "┡━━━━━━━━━━━━━━━━━━━━━━━━━━━━━━━━━╇━━━━━━━━━━━━━━━━━━━━━━━━╇━━━━━━━━━━━━━━━┩\n",
       "│ input_layer_4 (\u001b[38;5;33mInputLayer\u001b[0m)      │ (\u001b[38;5;45mNone\u001b[0m, \u001b[38;5;34m310\u001b[0m)            │             \u001b[38;5;34m0\u001b[0m │\n",
       "├─────────────────────────────────┼────────────────────────┼───────────────┤\n",
       "│ embedding_4 (\u001b[38;5;33mEmbedding\u001b[0m)         │ (\u001b[38;5;45mNone\u001b[0m, \u001b[38;5;34m310\u001b[0m, \u001b[38;5;34m128\u001b[0m)       │         \u001b[38;5;34m2,688\u001b[0m │\n",
       "├─────────────────────────────────┼────────────────────────┼───────────────┤\n",
       "│ masking (\u001b[38;5;33mMasking\u001b[0m)               │ (\u001b[38;5;45mNone\u001b[0m, \u001b[38;5;34m310\u001b[0m, \u001b[38;5;34m128\u001b[0m)       │             \u001b[38;5;34m0\u001b[0m │\n",
       "├─────────────────────────────────┼────────────────────────┼───────────────┤\n",
       "│ conv1d_6 (\u001b[38;5;33mConv1D\u001b[0m)               │ (\u001b[38;5;45mNone\u001b[0m, \u001b[38;5;34m310\u001b[0m, \u001b[38;5;34m64\u001b[0m)        │        \u001b[38;5;34m24,640\u001b[0m │\n",
       "├─────────────────────────────────┼────────────────────────┼───────────────┤\n",
       "│ conv1d_7 (\u001b[38;5;33mConv1D\u001b[0m)               │ (\u001b[38;5;45mNone\u001b[0m, \u001b[38;5;34m310\u001b[0m, \u001b[38;5;34m128\u001b[0m)       │        \u001b[38;5;34m24,704\u001b[0m │\n",
       "├─────────────────────────────────┼────────────────────────┼───────────────┤\n",
       "│ lstm_6 (\u001b[38;5;33mLSTM\u001b[0m)                   │ (\u001b[38;5;45mNone\u001b[0m, \u001b[38;5;34m310\u001b[0m, \u001b[38;5;34m128\u001b[0m)       │       \u001b[38;5;34m131,584\u001b[0m │\n",
       "├─────────────────────────────────┼────────────────────────┼───────────────┤\n",
       "│ lstm_7 (\u001b[38;5;33mLSTM\u001b[0m)                   │ (\u001b[38;5;45mNone\u001b[0m, \u001b[38;5;34m310\u001b[0m, \u001b[38;5;34m128\u001b[0m)       │       \u001b[38;5;34m131,584\u001b[0m │\n",
       "├─────────────────────────────────┼────────────────────────┼───────────────┤\n",
       "│ time_distributed_2              │ (\u001b[38;5;45mNone\u001b[0m, \u001b[38;5;34m310\u001b[0m, \u001b[38;5;34m21\u001b[0m)        │         \u001b[38;5;34m2,709\u001b[0m │\n",
       "│ (\u001b[38;5;33mTimeDistributed\u001b[0m)               │                        │               │\n",
       "└─────────────────────────────────┴────────────────────────┴───────────────┘\n"
      ]
     },
     "metadata": {},
     "output_type": "display_data"
    },
    {
     "data": {
      "text/html": [
       "<pre style=\"white-space:pre;overflow-x:auto;line-height:normal;font-family:Menlo,'DejaVu Sans Mono',consolas,'Courier New',monospace\"><span style=\"font-weight: bold\"> Total params: </span><span style=\"color: #00af00; text-decoration-color: #00af00\">317,909</span> (1.21 MB)\n",
       "</pre>\n"
      ],
      "text/plain": [
       "\u001b[1m Total params: \u001b[0m\u001b[38;5;34m317,909\u001b[0m (1.21 MB)\n"
      ]
     },
     "metadata": {},
     "output_type": "display_data"
    },
    {
     "data": {
      "text/html": [
       "<pre style=\"white-space:pre;overflow-x:auto;line-height:normal;font-family:Menlo,'DejaVu Sans Mono',consolas,'Courier New',monospace\"><span style=\"font-weight: bold\"> Trainable params: </span><span style=\"color: #00af00; text-decoration-color: #00af00\">317,909</span> (1.21 MB)\n",
       "</pre>\n"
      ],
      "text/plain": [
       "\u001b[1m Trainable params: \u001b[0m\u001b[38;5;34m317,909\u001b[0m (1.21 MB)\n"
      ]
     },
     "metadata": {},
     "output_type": "display_data"
    },
    {
     "data": {
      "text/html": [
       "<pre style=\"white-space:pre;overflow-x:auto;line-height:normal;font-family:Menlo,'DejaVu Sans Mono',consolas,'Courier New',monospace\"><span style=\"font-weight: bold\"> Non-trainable params: </span><span style=\"color: #00af00; text-decoration-color: #00af00\">0</span> (0.00 B)\n",
       "</pre>\n"
      ],
      "text/plain": [
       "\u001b[1m Non-trainable params: \u001b[0m\u001b[38;5;34m0\u001b[0m (0.00 B)\n"
      ]
     },
     "metadata": {},
     "output_type": "display_data"
    }
   ],
   "source": [
    "import tensorflow as tf\n",
    "from tensorflow.keras.layers import Input, Embedding, Conv1D, LSTM, Dense, Dropout, TimeDistributed,Masking\n",
    "from tensorflow.keras.models import Model\n",
    "\n",
    "# Define input layer\n",
    "input_layer = Input(shape=(310,), dtype='int32')  # Input shape\n",
    "\n",
    "# Embedding layer with masking\n",
    "embedding_layer = Embedding(input_dim=len(tokenizer.word_index) + 1, output_dim=128, mask_zero=True)(input_layer)\n",
    "masked_embedding = Masking(mask_value=0)(embedding_layer)\n",
    "# First Conv1D layer\n",
    "conv1d_layer1 = Conv1D(filters=64, kernel_size=3, activation='relu', padding='same')(masked_embedding)\n",
    "conv1d_layer2 = Conv1D(filters=128, kernel_size=3, activation='relu', padding='same')(conv1d_layer1)\n",
    "\n",
    "# LSTM layers\n",
    "lstm_layer1 = LSTM(128, return_sequences=True)(conv1d_layer2)\n",
    "lstm_layer2 = LSTM(128, return_sequences=True)(lstm_layer1)\n",
    "\n",
    "# Output layer (TimeDistributed to predict each character in the next move)\n",
    "output_layer = TimeDistributed(Dense(len(tokenizer.word_index) + 1, activation='softmax'))(lstm_layer2)\n",
    "\n",
    "# Compile the model\n",
    "model = Model(inputs=input_layer, outputs=output_layer)\n",
    "model.compile(optimizer='adam', loss='sparse_categorical_crossentropy', metrics=['accuracy'])\n",
    "\n",
    "# Summary\n",
    "model.summary()\n",
    "\n"
   ]
  },
  {
   "cell_type": "code",
   "execution_count": 501,
   "id": "d39868f0-d796-45ac-8b97-63b58c6e3ad6",
   "metadata": {},
   "outputs": [
    {
     "name": "stdout",
     "output_type": "stream",
     "text": [
      "Epoch 1/2\n",
      "\u001b[1m12824/12824\u001b[0m \u001b[32m━━━━━━━━━━━━━━━━━━━━\u001b[0m\u001b[37m\u001b[0m \u001b[1m0s\u001b[0m 521ms/step - accuracy: 0.9894 - loss: 0.0261"
     ]
    },
    {
     "name": "stderr",
     "output_type": "stream",
     "text": [
      "/opt/anaconda3/envs/tf-gpu/lib/python3.9/site-packages/keras/src/layers/layer.py:932: UserWarning: Layer 'conv1d_6' (of type Conv1D) was passed an input with a mask attached to it. However, this layer does not support masking and will therefore destroy the mask information. Downstream layers will not see the mask.\n",
      "  warnings.warn(\n"
     ]
    },
    {
     "name": "stdout",
     "output_type": "stream",
     "text": [
      "\u001b[1m12824/12824\u001b[0m \u001b[32m━━━━━━━━━━━━━━━━━━━━\u001b[0m\u001b[37m\u001b[0m \u001b[1m6883s\u001b[0m 537ms/step - accuracy: 0.9894 - loss: 0.0261 - val_accuracy: 0.9895 - val_loss: 0.0259\n",
      "Epoch 2/2\n",
      "\u001b[1m12824/12824\u001b[0m \u001b[32m━━━━━━━━━━━━━━━━━━━━\u001b[0m\u001b[37m\u001b[0m \u001b[1m6536s\u001b[0m 510ms/step - accuracy: 0.9895 - loss: 0.0258 - val_accuracy: 0.9895 - val_loss: 0.0258\n"
     ]
    },
    {
     "data": {
      "text/plain": [
       "<keras.src.callbacks.history.History at 0x457f9b8e0>"
      ]
     },
     "execution_count": 501,
     "metadata": {},
     "output_type": "execute_result"
    }
   ],
   "source": [
    "model.fit(train_dataset, epochs=2, validation_data=test_dataset)"
   ]
  },
  {
   "cell_type": "code",
   "execution_count": 503,
   "id": "f90af720-b237-47a7-8179-80e4d8f91a41",
   "metadata": {},
   "outputs": [
    {
     "name": "stderr",
     "output_type": "stream",
     "text": [
      "/opt/anaconda3/envs/tf-gpu/lib/python3.9/site-packages/keras/src/layers/layer.py:932: UserWarning: Layer 'conv1d_6' (of type Conv1D) was passed an input with a mask attached to it. However, this layer does not support masking and will therefore destroy the mask information. Downstream layers will not see the mask.\n",
      "  warnings.warn(\n"
     ]
    }
   ],
   "source": [
    "# Save the model\n",
    "model.save('my_model.keras')  # instead of model.save('my_model.h5')\n",
    "\n",
    "# Load the model\n",
    "from tensorflow.keras.models import load_model\n",
    "model = tf.keras.models.load_model('/Users/nihaalnadaf/Documents/my_model.keras', compile=False)\n",
    "# Recompile the model after loading\n",
    "model.compile(optimizer='adam', loss='sparse_categorical_crossentropy', metrics=['accuracy'])"
   ]
  },
  {
   "cell_type": "code",
   "execution_count": 505,
   "id": "ca6a7ce2-74dd-4684-9247-a9e982313279",
   "metadata": {},
   "outputs": [],
   "source": [
    "z=['e2e4 c7c5 g1f3 d8b6 f1c4 e7e6 d2d3 b6b4']"
   ]
  },
  {
   "cell_type": "code",
   "execution_count": 507,
   "id": "a446e641-5cf5-4201-931a-024c199b8d13",
   "metadata": {},
   "outputs": [],
   "source": [
    "z= tokenizer.texts_to_sequences(z)\n"
   ]
  },
  {
   "cell_type": "code",
   "execution_count": 509,
   "id": "93cd780d-36ca-4a79-80b6-7e10f0658994",
   "metadata": {},
   "outputs": [],
   "source": [
    "z= tf.keras.preprocessing.sequence.pad_sequences(z, padding='post',maxlen=310)"
   ]
  },
  {
   "cell_type": "code",
   "execution_count": 511,
   "id": "66ea6194-7646-476b-8d41-38929a3fcf99",
   "metadata": {},
   "outputs": [
    {
     "name": "stdout",
     "output_type": "stream",
     "text": [
      "[[ 3 13  3  6  1  4 10  4  7  1  9 11  5 14  1  2 12 15  8  1  5 11  4  6\n",
      "   1  3 10  3  8  1  2 13  2 14  1 15  8 15  6  0  0  0  0  0  0  0  0  0\n",
      "   0  0  0  0  0  0  0  0  0  0  0  0  0  0  0  0  0  0  0  0  0  0  0  0\n",
      "   0  0  0  0  0  0  0  0  0  0  0  0  0  0  0  0  0  0  0  0  0  0  0  0\n",
      "   0  0  0  0  0  0  0  0  0  0  0  0  0  0  0  0  0  0  0  0  0  0  0  0\n",
      "   0  0  0  0  0  0  0  0  0  0  0  0  0  0  0  0  0  0  0  0  0  0  0  0\n",
      "   0  0  0  0  0  0  0  0  0  0  0  0  0  0  0  0  0  0  0  0  0  0  0  0\n",
      "   0  0  0  0  0  0  0  0  0  0  0  0  0  0  0  0  0  0  0  0  0  0  0  0\n",
      "   0  0  0  0  0  0  0  0  0  0  0  0  0  0  0  0  0  0  0  0  0  0  0  0\n",
      "   0  0  0  0  0  0  0  0  0  0  0  0  0  0  0  0  0  0  0  0  0  0  0  0\n",
      "   0  0  0  0  0  0  0  0  0  0  0  0  0  0  0  0  0  0  0  0  0  0  0  0\n",
      "   0  0  0  0  0  0  0  0  0  0  0  0  0  0  0  0  0  0  0  0  0  0  0  0\n",
      "   0  0  0  0  0  0  0  0  0  0  0  0  0  0  0  0  0  0  0  0  0  0]]\n"
     ]
    }
   ],
   "source": [
    "import numpy as np\n",
    "\n",
    "# Disable truncation of numpy arrays\n",
    "np.set_printoptions(threshold=np.inf)\n",
    "\n",
    "# Assuming `s` is the model output\n",
    "print(z)"
   ]
  },
  {
   "cell_type": "code",
   "execution_count": 523,
   "id": "b070ecb9-af6f-47c5-bd5a-567d519e7345",
   "metadata": {},
   "outputs": [
    {
     "name": "stdout",
     "output_type": "stream",
     "text": [
      "\u001b[1m1/1\u001b[0m \u001b[32m━━━━━━━━━━━━━━━━━━━━\u001b[0m\u001b[37m\u001b[0m \u001b[1m0s\u001b[0m 311ms/step\n"
     ]
    }
   ],
   "source": [
    "s=model.predict(z)"
   ]
  },
  {
   "cell_type": "code",
   "execution_count": 527,
   "id": "4ebdb359-a332-4a76-a49b-51dafba89d01",
   "metadata": {},
   "outputs": [],
   "source": [
    "word_index = tokenizer.word_index"
   ]
  },
  {
   "cell_type": "code",
   "execution_count": 529,
   "id": "cff7a5cf-97e5-4a35-a7fe-bf69fa19dec1",
   "metadata": {},
   "outputs": [
    {
     "name": "stdout",
     "output_type": "stream",
     "text": [
      "d 1 d 5\n"
     ]
    }
   ],
   "source": [
    "import numpy as np\n",
    "\n",
    "# Assuming `s` is the predicted output array from the model\n",
    "predicted_indices = np.argmax(s, axis=-1)  # Get the index of the max probability for each step\n",
    "\n",
    "# Convert indices to moves using tokenizer.index_word\n",
    "predicted_moves = []\n",
    "for timestep in predicted_indices[0]:  # Assuming batch size is 1\n",
    "    if timestep in tokenizer.index_word:\n",
    "        predicted_moves.append(tokenizer.index_word[timestep])\n",
    "\n",
    "# Join the moves in e2e4 format\n",
    "predicted_moves_str = ' '.join(predicted_moves)\n",
    "print(predicted_moves_str)"
   ]
  },
  {
   "cell_type": "code",
   "execution_count": 551,
   "id": "95d13715-d99a-4cd5-894c-6fed9b95f756",
   "metadata": {},
   "outputs": [
    {
     "data": {
      "text/plain": [
       "\"import numpy as np\\n\\n# Assuming `s` is the predicted output array from the model\\nsecond_predicted_indices = np.argsort(s, axis=-1)[:, :, -10]  # Get the 2nd highest index for each timestep\\n\\n# Convert indices to moves using tokenizer.index_word\\nsecond_predicted_moves = []\\nfor timestep in second_predicted_indices[0]:  # Assuming batch size is 1\\n    if timestep in tokenizer.index_word:\\n        second_predicted_moves.append(tokenizer.index_word[timestep])\\n\\n# Join the moves in e2e4 format\\nsecond_predicted_moves_str = ' '.join(second_predicted_moves)\\nprint(second_predicted_moves_str)\""
      ]
     },
     "execution_count": 551,
     "metadata": {},
     "output_type": "execute_result"
    }
   ],
   "source": [
    "'''import numpy as np\n",
    "\n",
    "# Assuming `s` is the predicted output array from the model\n",
    "second_predicted_indices = np.argsort(s, axis=-1)[:, :, -10]  # Get the 2nd highest index for each timestep\n",
    "\n",
    "# Convert indices to moves using tokenizer.index_word\n",
    "second_predicted_moves = []\n",
    "for timestep in second_predicted_indices[0]:  # Assuming batch size is 1\n",
    "    if timestep in tokenizer.index_word:\n",
    "        second_predicted_moves.append(tokenizer.index_word[timestep])\n",
    "\n",
    "# Join the moves in e2e4 format\n",
    "second_predicted_moves_str = ' '.join(second_predicted_moves)\n",
    "print(second_predicted_moves_str)'''"
   ]
  },
  {
   "cell_type": "code",
   "execution_count": null,
   "id": "47c8fbb1-894e-4475-831f-395954ac7e05",
   "metadata": {},
   "outputs": [],
   "source": []
  }
 ],
 "metadata": {
  "kernelspec": {
   "display_name": "Python (tf-gpu)",
   "language": "python",
   "name": "tf-gpu"
  },
  "language_info": {
   "codemirror_mode": {
    "name": "ipython",
    "version": 3
   },
   "file_extension": ".py",
   "mimetype": "text/x-python",
   "name": "python",
   "nbconvert_exporter": "python",
   "pygments_lexer": "ipython3",
   "version": "3.9.20"
  }
 },
 "nbformat": 4,
 "nbformat_minor": 5
}
